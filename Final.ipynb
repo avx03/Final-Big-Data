{
  "nbformat": 4,
  "nbformat_minor": 0,
  "metadata": {
    "colab": {
      "provenance": [],
      "include_colab_link": true
    },
    "kernelspec": {
      "name": "python3",
      "display_name": "Python 3"
    },
    "language_info": {
      "name": "python"
    }
  },
  "cells": [
    {
      "cell_type": "markdown",
      "metadata": {
        "id": "view-in-github",
        "colab_type": "text"
      },
      "source": [
        "<a href=\"https://colab.research.google.com/github/avx03/Final-Big-Data/blob/main/Final.ipynb\" target=\"_parent\"><img src=\"https://colab.research.google.com/assets/colab-badge.svg\" alt=\"Open In Colab\"/></a>"
      ]
    },
    {
      "cell_type": "markdown",
      "source": [],
      "metadata": {
        "id": "WVKkqBl1sYPF"
      }
    },
    {
      "cell_type": "code",
      "source": [
        "# This Python 3 environment comes with many helpful analytics libraries installed\n",
        "# It is defined by the kaggle/python Docker image: https://github.com/kaggle/docker-python\n",
        "# For example, here's several helpful packages to load\n",
        "\n",
        "import numpy as np # linear algebra\n",
        "import pandas as pd # data processing, CSV file I/O (e.g. pd.read_csv)\n",
        "\n",
        "# Input data files are available in the read-only \"../input/\" directory\n",
        "# For example, running this (by clicking run or pressing Shift+Enter) will list all files under the input directory\n",
        "\n",
        "import os\n",
        "for dirname, _, filenames in os.walk('/kaggle/input'):\n",
        "    for filename in filenames:\n",
        "        print(os.path.join(dirname, filename))\n",
        "\n",
        "# You can write up to 20GB to the current directory (/kaggle/working/) that gets preserved as output when you create a version using \"Save & Run All\"\n",
        "# You can also write temporary files to /kaggle/temp/, but they won't be saved outside of the current session"
      ],
      "metadata": {
        "id": "IChy9OhFsYys"
      },
      "execution_count": null,
      "outputs": []
    },
    {
      "cell_type": "code",
      "source": [
        "!pip install pyspark\n"
      ],
      "metadata": {
        "colab": {
          "base_uri": "https://localhost:8080/"
        },
        "id": "4F94NM_8soIx",
        "outputId": "1997f117-aeb9-487a-9630-aa09576fdcc9"
      },
      "execution_count": null,
      "outputs": [
        {
          "output_type": "stream",
          "name": "stdout",
          "text": [
            "Collecting pyspark\n",
            "  Downloading pyspark-3.5.1.tar.gz (317.0 MB)\n",
            "\u001b[2K     \u001b[90m━━━━━━━━━━━━━━━━━━━━━━━━━━━━━━━━━━━━━━━━\u001b[0m \u001b[32m317.0/317.0 MB\u001b[0m \u001b[31m2.5 MB/s\u001b[0m eta \u001b[36m0:00:00\u001b[0m\n",
            "\u001b[?25h  Preparing metadata (setup.py) ... \u001b[?25l\u001b[?25hdone\n",
            "Requirement already satisfied: py4j==0.10.9.7 in /usr/local/lib/python3.10/dist-packages (from pyspark) (0.10.9.7)\n",
            "Building wheels for collected packages: pyspark\n",
            "  Building wheel for pyspark (setup.py) ... \u001b[?25l\u001b[?25hdone\n",
            "  Created wheel for pyspark: filename=pyspark-3.5.1-py2.py3-none-any.whl size=317488491 sha256=2ff5c59bd435a2cf6035b777d8875b065fc7ad136b0ccd40cc7e0badf7031d23\n",
            "  Stored in directory: /root/.cache/pip/wheels/80/1d/60/2c256ed38dddce2fdd93be545214a63e02fbd8d74fb0b7f3a6\n",
            "Successfully built pyspark\n",
            "Installing collected packages: pyspark\n",
            "Successfully installed pyspark-3.5.1\n"
          ]
        }
      ]
    },
    {
      "cell_type": "markdown",
      "source": [
        "1. Initiate Spark environment¶\n"
      ],
      "metadata": {
        "id": "uWplYNolsyD_"
      }
    },
    {
      "cell_type": "code",
      "source": [
        "from pyspark import SparkConf, SparkContext\n",
        "from pyspark.sql import SparkSession, SQLContext\n",
        "\n",
        "from pyspark.sql.types import *\n",
        "import pyspark.sql.functions as F\n",
        "from pyspark.sql.functions import udf, col\n",
        "\n",
        "from pyspark.ml.regression import LinearRegression\n",
        "from pyspark.mllib.evaluation import RegressionMetrics\n",
        "\n",
        "from pyspark.ml.tuning import ParamGridBuilder, CrossValidator, CrossValidatorModel\n",
        "from pyspark.ml.feature import VectorAssembler, StandardScaler\n",
        "from pyspark.ml.evaluation import RegressionEvaluator"
      ],
      "metadata": {
        "id": "q3pHiwqEsowR"
      },
      "execution_count": null,
      "outputs": []
    },
    {
      "cell_type": "code",
      "source": [
        "import matplotlib.pyplot as plt\n",
        "import seaborn as sns\n",
        "\n",
        "from scipy import stats\n",
        "from scipy.stats import norm, skew"
      ],
      "metadata": {
        "id": "0lyBdQ_Bs1Al"
      },
      "execution_count": null,
      "outputs": []
    },
    {
      "cell_type": "code",
      "source": [
        "spark_session = SparkSession.builder.master(\"local[2]\").appName(\"HousingRegression\").getOrCreate()\n"
      ],
      "metadata": {
        "id": "6YDivwR5s4MX"
      },
      "execution_count": null,
      "outputs": []
    },
    {
      "cell_type": "code",
      "source": [
        "spark_context = spark_session.sparkContext\n"
      ],
      "metadata": {
        "id": "hQi6qZwDs7Kc"
      },
      "execution_count": null,
      "outputs": []
    },
    {
      "cell_type": "code",
      "source": [
        "spark_sql_context = SQLContext(spark_context)\n"
      ],
      "metadata": {
        "id": "khiRmL7ls71l",
        "colab": {
          "base_uri": "https://localhost:8080/"
        },
        "outputId": "fb03f995-8a17-43ac-bdf9-1958e74dbd44"
      },
      "execution_count": null,
      "outputs": [
        {
          "output_type": "stream",
          "name": "stderr",
          "text": [
            "/usr/local/lib/python3.10/dist-packages/pyspark/sql/context.py:113: FutureWarning: Deprecated in 3.0.0. Use SparkSession.builder.getOrCreate() instead.\n",
            "  warnings.warn(\n"
          ]
        }
      ]
    },
    {
      "cell_type": "markdown",
      "source": [
        "2. Loading data & EDA¶\n"
      ],
      "metadata": {
        "id": "43ypOQigs_Iw"
      }
    },
    {
      "cell_type": "code",
      "source": [
        "TRAIN_INPUT = 'train.csv'\n",
        "TEST_INPUT = 'test.csv'"
      ],
      "metadata": {
        "id": "3O9Y9AtRs9PL"
      },
      "execution_count": null,
      "outputs": []
    },
    {
      "cell_type": "markdown",
      "source": [
        "First, let's us pandas to handle the missing data and do some visualizations."
      ],
      "metadata": {
        "id": "_hQjbLxgtFtF"
      }
    },
    {
      "cell_type": "code",
      "source": [
        "pd_train = pd.read_csv(TRAIN_INPUT)\n",
        "pd_test = pd.read_csv(TEST_INPUT)\n",
        "na_cols = pd_train.columns[pd_train.isna().any()].tolist()"
      ],
      "metadata": {
        "id": "v7ISVveXtCHX"
      },
      "execution_count": null,
      "outputs": []
    },
    {
      "cell_type": "markdown",
      "source": [
        "QQ-plot\n",
        "\n"
      ],
      "metadata": {
        "id": "2Qxep6Ehv5Yw"
      }
    },
    {
      "cell_type": "code",
      "source": [
        "# Let's Explore how SalePrice is distributed against normal theoretical quantiles\n",
        "fig = plt.figure()\n",
        "ax = fig.add_subplot()\n",
        "res = stats.probplot(pd_train['SalePrice'], plot=plt)"
      ],
      "metadata": {
        "id": "-M5IFo18tJKg",
        "colab": {
          "base_uri": "https://localhost:8080/",
          "height": 472
        },
        "outputId": "ed17c722-9b34-4eef-b0e4-2bb74bfbcf73"
      },
      "execution_count": null,
      "outputs": [
        {
          "output_type": "display_data",
          "data": {
            "text/plain": [
              "<Figure size 640x480 with 1 Axes>"
            ],
            "image/png": "[encoded data removed]"
          },
          "metadata": {}
        }
      ]
    },
    {
      "cell_type": "markdown",
      "source": [
        "Dist plot (normal vs factual distribution of SalePrice)\n",
        "\n"
      ],
      "metadata": {
        "id": "-8BHcuZcv_Q3"
      }
    },
    {
      "cell_type": "code",
      "source": [
        "sns.distplot(pd_train['SalePrice'] , fit=norm);\n",
        "\n",
        "# parameters\n",
        "(mu, sigma) = norm.fit(pd_train['SalePrice'])\n",
        "\n",
        "plt.suptitle('Normal distribution with mu = {:.2f} and sigma = {:.2f}'.format(mu, sigma))\n",
        "plt.ylabel('Frequency')\n",
        "plt.title('SalePrice distribution')\n",
        "\n",
        "#ax = plt.axes()"
      ],
      "metadata": {
        "id": "33zOJObNv75J",
        "colab": {
          "base_uri": "https://localhost:8080/",
          "height": 705
        },
        "outputId": "9891bc85-028d-4484-a353-fcabca8a74c5"
      },
      "execution_count": null,
      "outputs": [
        {
          "output_type": "stream",
          "name": "stderr",
          "text": [
            "<ipython-input-12-c84ecbd7a0ee>:1: UserWarning: \n",
            "\n",
            "`distplot` is a deprecated function and will be removed in seaborn v0.14.0.\n",
            "\n",
            "Please adapt your code to use either `displot` (a figure-level function with\n",
            "similar flexibility) or `histplot` (an axes-level function for histograms).\n",
            "\n",
            "For a guide to updating your code to use the new functions, please see\n",
            "https://gist.github.com/mwaskom/de44147ed2974457ad6372750bbe5751\n",
            "\n",
            "  sns.distplot(pd_train['SalePrice'] , fit=norm);\n"
          ]
        },
        {
          "output_type": "execute_result",
          "data": {
            "text/plain": [
              "Text(0.5, 1.0, 'SalePrice distribution')"
            ]
          },
          "metadata": {},
          "execution_count": 12
        },
        {
          "output_type": "display_data",
          "data": {
            "text/plain": [
              "<Figure size 640x480 with 1 Axes>"
            ],
            "image/png": "[encoded data removed]"
          },
          "metadata": {}
        }
      ]
    },
    {
      "cell_type": "markdown",
      "source": [
        "Now let's build a correlation matrix\n",
        "\n"
      ],
      "metadata": {
        "id": "nXzqmkwmwUla"
      }
    },
    {
      "cell_type": "code",
      "source": [
        "corr = pd_train.corr()\n"
      ],
      "metadata": {
        "id": "LA7djkRVwNe7",
        "colab": {
          "base_uri": "https://localhost:8080/",
          "height": 287
        },
        "outputId": "15f80334-d2f5-4f46-f015-a2dbbdf62ede"
      },
      "execution_count": null,
      "outputs": [
        {
          "output_type": "error",
          "ename": "ValueError",
          "evalue": "could not convert string to float: 'RL'",
          "traceback": [
            "\u001b[0;31m---------------------------------------------------------------------------\u001b[0m",
            "\u001b[0;31mValueError\u001b[0m                                Traceback (most recent call last)",
            "\u001b[0;32m<ipython-input-13-63923076a6ab>\u001b[0m in \u001b[0;36m<cell line: 1>\u001b[0;34m()\u001b[0m\n\u001b[0;32m----> 1\u001b[0;31m \u001b[0mcorr\u001b[0m \u001b[0;34m=\u001b[0m \u001b[0mpd_train\u001b[0m\u001b[0;34m.\u001b[0m\u001b[0mcorr\u001b[0m\u001b[0;34m(\u001b[0m\u001b[0;34m)\u001b[0m\u001b[0;34m\u001b[0m\u001b[0;34m\u001b[0m\u001b[0m\n\u001b[0m",
            "\u001b[0;32m/usr/local/lib/python3.10/dist-packages/pandas/core/frame.py\u001b[0m in \u001b[0;36mcorr\u001b[0;34m(self, method, min_periods, numeric_only)\u001b[0m\n\u001b[1;32m  10052\u001b[0m         \u001b[0mcols\u001b[0m \u001b[0;34m=\u001b[0m \u001b[0mdata\u001b[0m\u001b[0;34m.\u001b[0m\u001b[0mcolumns\u001b[0m\u001b[0;34m\u001b[0m\u001b[0;34m\u001b[0m\u001b[0m\n\u001b[1;32m  10053\u001b[0m         \u001b[0midx\u001b[0m \u001b[0;34m=\u001b[0m \u001b[0mcols\u001b[0m\u001b[0;34m.\u001b[0m\u001b[0mcopy\u001b[0m\u001b[0;34m(\u001b[0m\u001b[0;34m)\u001b[0m\u001b[0;34m\u001b[0m\u001b[0;34m\u001b[0m\u001b[0m\n\u001b[0;32m> 10054\u001b[0;31m         \u001b[0mmat\u001b[0m \u001b[0;34m=\u001b[0m \u001b[0mdata\u001b[0m\u001b[0;34m.\u001b[0m\u001b[0mto_numpy\u001b[0m\u001b[0;34m(\u001b[0m\u001b[0mdtype\u001b[0m\u001b[0;34m=\u001b[0m\u001b[0mfloat\u001b[0m\u001b[0;34m,\u001b[0m \u001b[0mna_value\u001b[0m\u001b[0;34m=\u001b[0m\u001b[0mnp\u001b[0m\u001b[0;34m.\u001b[0m\u001b[0mnan\u001b[0m\u001b[0;34m,\u001b[0m \u001b[0mcopy\u001b[0m\u001b[0;34m=\u001b[0m\u001b[0;32mFalse\u001b[0m\u001b[0;34m)\u001b[0m\u001b[0;34m\u001b[0m\u001b[0;34m\u001b[0m\u001b[0m\n\u001b[0m\u001b[1;32m  10055\u001b[0m \u001b[0;34m\u001b[0m\u001b[0m\n\u001b[1;32m  10056\u001b[0m         \u001b[0;32mif\u001b[0m \u001b[0mmethod\u001b[0m \u001b[0;34m==\u001b[0m \u001b[0;34m\"pearson\"\u001b[0m\u001b[0;34m:\u001b[0m\u001b[0;34m\u001b[0m\u001b[0;34m\u001b[0m\u001b[0m\n",
            "\u001b[0;32m/usr/local/lib/python3.10/dist-packages/pandas/core/frame.py\u001b[0m in \u001b[0;36mto_numpy\u001b[0;34m(self, dtype, copy, na_value)\u001b[0m\n\u001b[1;32m   1836\u001b[0m         \u001b[0;32mif\u001b[0m \u001b[0mdtype\u001b[0m \u001b[0;32mis\u001b[0m \u001b[0;32mnot\u001b[0m \u001b[0;32mNone\u001b[0m\u001b[0;34m:\u001b[0m\u001b[0;34m\u001b[0m\u001b[0;34m\u001b[0m\u001b[0m\n\u001b[1;32m   1837\u001b[0m             \u001b[0mdtype\u001b[0m \u001b[0;34m=\u001b[0m \u001b[0mnp\u001b[0m\u001b[0;34m.\u001b[0m\u001b[0mdtype\u001b[0m\u001b[0;34m(\u001b[0m\u001b[0mdtype\u001b[0m\u001b[0;34m)\u001b[0m\u001b[0;34m\u001b[0m\u001b[0;34m\u001b[0m\u001b[0m\n\u001b[0;32m-> 1838\u001b[0;31m         \u001b[0mresult\u001b[0m \u001b[0;34m=\u001b[0m \u001b[0mself\u001b[0m\u001b[0;34m.\u001b[0m\u001b[0m_mgr\u001b[0m\u001b[0;34m.\u001b[0m\u001b[0mas_array\u001b[0m\u001b[0;34m(\u001b[0m\u001b[0mdtype\u001b[0m\u001b[0;34m=\u001b[0m\u001b[0mdtype\u001b[0m\u001b[0;34m,\u001b[0m \u001b[0mcopy\u001b[0m\u001b[0;34m=\u001b[0m\u001b[0mcopy\u001b[0m\u001b[0;34m,\u001b[0m \u001b[0mna_value\u001b[0m\u001b[0;34m=\u001b[0m\u001b[0mna_value\u001b[0m\u001b[0;34m)\u001b[0m\u001b[0;34m\u001b[0m\u001b[0;34m\u001b[0m\u001b[0m\n\u001b[0m\u001b[1;32m   1839\u001b[0m         \u001b[0;32mif\u001b[0m \u001b[0mresult\u001b[0m\u001b[0;34m.\u001b[0m\u001b[0mdtype\u001b[0m \u001b[0;32mis\u001b[0m \u001b[0;32mnot\u001b[0m \u001b[0mdtype\u001b[0m\u001b[0;34m:\u001b[0m\u001b[0;34m\u001b[0m\u001b[0;34m\u001b[0m\u001b[0m\n\u001b[1;32m   1840\u001b[0m             \u001b[0mresult\u001b[0m \u001b[0;34m=\u001b[0m \u001b[0mnp\u001b[0m\u001b[0;34m.\u001b[0m\u001b[0marray\u001b[0m\u001b[0;34m(\u001b[0m\u001b[0mresult\u001b[0m\u001b[0;34m,\u001b[0m \u001b[0mdtype\u001b[0m\u001b[0;34m=\u001b[0m\u001b[0mdtype\u001b[0m\u001b[0;34m,\u001b[0m \u001b[0mcopy\u001b[0m\u001b[0;34m=\u001b[0m\u001b[0;32mFalse\u001b[0m\u001b[0;34m)\u001b[0m\u001b[0;34m\u001b[0m\u001b[0;34m\u001b[0m\u001b[0m\n",
            "\u001b[0;32m/usr/local/lib/python3.10/dist-packages/pandas/core/internals/managers.py\u001b[0m in \u001b[0;36mas_array\u001b[0;34m(self, dtype, copy, na_value)\u001b[0m\n\u001b[1;32m   1730\u001b[0m                 \u001b[0marr\u001b[0m\u001b[0;34m.\u001b[0m\u001b[0mflags\u001b[0m\u001b[0;34m.\u001b[0m\u001b[0mwriteable\u001b[0m \u001b[0;34m=\u001b[0m \u001b[0;32mFalse\u001b[0m\u001b[0;34m\u001b[0m\u001b[0;34m\u001b[0m\u001b[0m\n\u001b[1;32m   1731\u001b[0m         \u001b[0;32melse\u001b[0m\u001b[0;34m:\u001b[0m\u001b[0;34m\u001b[0m\u001b[0;34m\u001b[0m\u001b[0m\n\u001b[0;32m-> 1732\u001b[0;31m             \u001b[0marr\u001b[0m \u001b[0;34m=\u001b[0m \u001b[0mself\u001b[0m\u001b[0;34m.\u001b[0m\u001b[0m_interleave\u001b[0m\u001b[0;34m(\u001b[0m\u001b[0mdtype\u001b[0m\u001b[0;34m=\u001b[0m\u001b[0mdtype\u001b[0m\u001b[0;34m,\u001b[0m \u001b[0mna_value\u001b[0m\u001b[0;34m=\u001b[0m\u001b[0mna_value\u001b[0m\u001b[0;34m)\u001b[0m\u001b[0;34m\u001b[0m\u001b[0;34m\u001b[0m\u001b[0m\n\u001b[0m\u001b[1;32m   1733\u001b[0m             \u001b[0;31m# The underlying data was copied within _interleave, so no need\u001b[0m\u001b[0;34m\u001b[0m\u001b[0;34m\u001b[0m\u001b[0m\n\u001b[1;32m   1734\u001b[0m             \u001b[0;31m# to further copy if copy=True or setting na_value\u001b[0m\u001b[0;34m\u001b[0m\u001b[0;34m\u001b[0m\u001b[0m\n",
            "\u001b[0;32m/usr/local/lib/python3.10/dist-packages/pandas/core/internals/managers.py\u001b[0m in \u001b[0;36m_interleave\u001b[0;34m(self, dtype, na_value)\u001b[0m\n\u001b[1;32m   1792\u001b[0m             \u001b[0;32melse\u001b[0m\u001b[0;34m:\u001b[0m\u001b[0;34m\u001b[0m\u001b[0;34m\u001b[0m\u001b[0m\n\u001b[1;32m   1793\u001b[0m                 \u001b[0marr\u001b[0m \u001b[0;34m=\u001b[0m \u001b[0mblk\u001b[0m\u001b[0;34m.\u001b[0m\u001b[0mget_values\u001b[0m\u001b[0;34m(\u001b[0m\u001b[0mdtype\u001b[0m\u001b[0;34m)\u001b[0m\u001b[0;34m\u001b[0m\u001b[0;34m\u001b[0m\u001b[0m\n\u001b[0;32m-> 1794\u001b[0;31m             \u001b[0mresult\u001b[0m\u001b[0;34m[\u001b[0m\u001b[0mrl\u001b[0m\u001b[0;34m.\u001b[0m\u001b[0mindexer\u001b[0m\u001b[0;34m]\u001b[0m \u001b[0;34m=\u001b[0m \u001b[0marr\u001b[0m\u001b[0;34m\u001b[0m\u001b[0;34m\u001b[0m\u001b[0m\n\u001b[0m\u001b[1;32m   1795\u001b[0m             \u001b[0mitemmask\u001b[0m\u001b[0;34m[\u001b[0m\u001b[0mrl\u001b[0m\u001b[0;34m.\u001b[0m\u001b[0mindexer\u001b[0m\u001b[0;34m]\u001b[0m \u001b[0;34m=\u001b[0m \u001b[0;36m1\u001b[0m\u001b[0;34m\u001b[0m\u001b[0;34m\u001b[0m\u001b[0m\n\u001b[1;32m   1796\u001b[0m \u001b[0;34m\u001b[0m\u001b[0m\n",
            "\u001b[0;31mValueError\u001b[0m: could not convert string to float: 'RL'"
          ]
        }
      ]
    },
    {
      "cell_type": "code",
      "source": [
        "corr[['SalePrice']].sort_values(by='SalePrice',ascending=False).style.background_gradient(cmap='viridis', axis=None)"
      ],
      "metadata": {
        "id": "EPKgkCfAwYRc"
      },
      "execution_count": null,
      "outputs": []
    },
    {
      "cell_type": "markdown",
      "source": [
        "We can see that the top-10 features have a high correlation level with the target variable.\n",
        "\n"
      ],
      "metadata": {
        "id": "f1RwDH31wquf"
      }
    },
    {
      "cell_type": "markdown",
      "source": [
        "A good idea would be to create a new feature with 3-4 of top-features combined, which we will try later. [see \"New\" Feature]\n",
        "\n"
      ],
      "metadata": {
        "id": "KwbcLhFrwr0f"
      }
    },
    {
      "cell_type": "markdown",
      "source": [
        "Now let's explore the dataset for outliers.\n",
        "\n"
      ],
      "metadata": {
        "id": "kUHdCFwBwtEX"
      }
    },
    {
      "cell_type": "code",
      "source": [
        "fig, axes = plt.subplots(1, 2, sharex=True, figsize=(15,5))\n",
        "axes[0].set_xlim(0,10)\n",
        "\n",
        "sns.scatterplot(data=pd_train, ax=axes[0], x='OverallQual', y='SalePrice')\n",
        "axes[0].set_title('OverallQual vs SalePrice')\n",
        "sns.scatterplot(data=pd_train, ax=axes[1], x='GarageCars', y='SalePrice')\n",
        "axes[1].set_title('GarageCars vs SalePrice')"
      ],
      "metadata": {
        "id": "EIDcqglKwfmT"
      },
      "execution_count": null,
      "outputs": []
    },
    {
      "cell_type": "code",
      "source": [
        "fig, axes = plt.subplots(1, 2, sharex=True, figsize=(15,5))\n",
        "axes[0].set_xlim(0, 6000)\n",
        "\n",
        "sns.scatterplot(data=pd_train, ax=axes[0], x='GrLivArea', y='SalePrice')\n",
        "axes[0].set_title('GrLivArea vs SalePrice')\n",
        "sns.scatterplot(data=pd_train, ax=axes[1], x='GarageArea', y='SalePrice')\n",
        "axes[1].set_title('GarageArea vs SalePrice')"
      ],
      "metadata": {
        "id": "9jQxitkuw5Gd"
      },
      "execution_count": null,
      "outputs": []
    },
    {
      "cell_type": "code",
      "source": [
        "fig, axes = plt.subplots(1, 2, sharex=True, figsize=(15,5))\n",
        "axes[0].set_xlim(0, 6000)\n",
        "\n",
        "sns.scatterplot(data=pd_train, ax=axes[0], x='TotalBsmtSF', y='SalePrice')\n",
        "axes[0].set_title('TotalBsmtSF vs SalePrice')\n",
        "sns.scatterplot(data=pd_train, ax=axes[1], x='1stFlrSF', y='SalePrice')\n",
        "axes[1].set_title('1stFlrSF vs SalePrice')"
      ],
      "metadata": {
        "id": "xOkbVKNIw7pF"
      },
      "execution_count": null,
      "outputs": []
    },
    {
      "cell_type": "markdown",
      "source": [
        "Handling missing data:¶\n"
      ],
      "metadata": {
        "id": "B91sdj6jw-wb"
      }
    },
    {
      "cell_type": "markdown",
      "source": [
        "determining the proportion of missing data from overall dataset.\n",
        "\n"
      ],
      "metadata": {
        "id": "WA4M1mQIxAm1"
      }
    },
    {
      "cell_type": "code",
      "source": [
        "total = pd_train.isnull().sum().sort_values(ascending=False)\n",
        "percent = (pd_train.isnull().sum()/pd_train.shape[0]).sort_values(ascending=False)\n",
        "\n",
        "missing = pd.concat([total, percent], axis=1, keys=['Total', 'Perc_missing'])\n",
        "missing.head(15)"
      ],
      "metadata": {
        "id": "jCNs-c6Qw9Nf"
      },
      "execution_count": null,
      "outputs": []
    },
    {
      "cell_type": "code",
      "source": [
        "# We will remove features with missing proportion of more than 15% (thumb rule)\n",
        "\n",
        "pd_train = pd_train.drop((missing[missing['Perc_missing'] >= 0.15]).index,1)\n",
        "pd_train.head()"
      ],
      "metadata": {
        "id": "-7QvxMNuxKgp"
      },
      "execution_count": null,
      "outputs": []
    },
    {
      "cell_type": "code",
      "source": [
        "pd_train['New'] = pd_train['OverallQual'] * pd_train['GarageArea'] * pd_train['GrLivArea']\n",
        "pd_test['New'] = pd_test['OverallQual'] * pd_test['GarageArea'] * pd_test['GrLivArea']\n",
        "\n",
        "# As some of the contestants have noticed, this results in a spike in model performance later"
      ],
      "metadata": {
        "id": "jj-VifsHxNlF"
      },
      "execution_count": null,
      "outputs": []
    },
    {
      "cell_type": "code",
      "source": [
        "train_cols = list(pd_train.columns)\n",
        "train_cols.remove('SalePrice')"
      ],
      "metadata": {
        "id": "H3FhsQ1txSnU"
      },
      "execution_count": null,
      "outputs": []
    },
    {
      "cell_type": "code",
      "source": [
        "#Make test ds feature set same as in train ds\n",
        "pd_test = pd_test[train_cols]"
      ],
      "metadata": {
        "id": "GrfLEMIhxVIl"
      },
      "execution_count": null,
      "outputs": []
    },
    {
      "cell_type": "code",
      "source": [
        "pd_test.columns[pd_test.isna().any()].tolist()\n"
      ],
      "metadata": {
        "id": "Y8p_fX7IxXgi"
      },
      "execution_count": null,
      "outputs": []
    },
    {
      "cell_type": "code",
      "source": [
        "# Althoug this is not the best solution to fill the NA-values with \"None\"/0, for most of the features\n",
        "# in the particular datas, it literally means \"None\"/0 (e.g. Garage Area, Garage Type, Condition) as the house\n",
        "# probably doesn't have the garage.\n",
        "\n",
        "for col in ['BsmtQual', 'BsmtCond', 'BsmtExposure', 'BsmtFinType1', 'BsmtFinType2']:\n",
        "    pd_train[col] = pd_train[col].fillna(\"None\")\n",
        "    pd_test[col] = pd_test[col].fillna(\"None\")\n",
        "\n",
        "for col in ['GarageType', 'GarageFinish', 'GarageQual', 'GarageCond']:\n",
        "    pd_train[col] = pd_train[col].fillna(\"None\")\n",
        "    pd_test[col] = pd_test[col].fillna(\"None\")\n",
        "\n",
        "for col in ['GarageYrBlt', 'GarageArea', 'GarageCars']:\n",
        "    pd_train[col] = pd_train[col].fillna(0)\n",
        "    pd_test[col] = pd_test[col].fillna(0)\n",
        "\n",
        "pd_train['MasVnrType'] = pd_train['MasVnrType'].fillna(\"None\")\n",
        "pd_test['MasVnrType'] = pd_test['MasVnrType'].fillna(\"None\")\n",
        "\n",
        "pd_train['MasVnrArea'] = pd_train['MasVnrArea'].fillna(0)\n",
        "pd_test['MasVnrArea'] = pd_test['MasVnrArea'].fillna(0)\n",
        "\n",
        "pd_train['Electrical'] = pd_train['Electrical'].fillna(pd_train['Electrical'].mode()[0])\n",
        "pd_test['Electrical'] = pd_test['Electrical'].fillna(pd_test['Electrical'].mode()[0])\n",
        "\n",
        "print(pd_train.isnull().sum().max()) # check if any missing values are left\n",
        "print(pd_test.isnull().sum().max())"
      ],
      "metadata": {
        "id": "BxbPQqhtxYyK"
      },
      "execution_count": null,
      "outputs": []
    },
    {
      "cell_type": "code",
      "source": [
        "pd_test['BsmtFinSF1'] = pd_test['BsmtFinSF1'].fillna(pd_test['BsmtFinSF1'].mean())\n",
        "pd_test['BsmtFinSF2'] = pd_test['BsmtFinSF2'].fillna(pd_test['BsmtFinSF2'].mean())\n",
        "pd_test['BsmtUnfSF'] = pd_test['BsmtUnfSF'].fillna(pd_test['BsmtUnfSF'].mean())\n",
        "pd_test['TotalBsmtSF'] = pd_test['TotalBsmtSF'].fillna(pd_test['TotalBsmtSF'].mean())\n",
        "pd_test['BsmtFullBath'] = pd_test['BsmtFullBath'].fillna(pd_test['BsmtFullBath'].mean())\n",
        "pd_test['BsmtHalfBath'] = pd_test['BsmtHalfBath'].fillna(pd_test['BsmtHalfBath'].mean())"
      ],
      "metadata": {
        "id": "uhyhUmtZxiqA"
      },
      "execution_count": null,
      "outputs": []
    },
    {
      "cell_type": "code",
      "source": [
        "# This is how fillna is done in PySpark\n",
        "\n",
        "# train_df = train_df.na.fill('NoData', subset=['MSZoning', 'Utilities', 'Exterior1st', 'Exterior2nd', 'BsmtFinSF1',\n",
        "#       'BsmtFinSF2', 'BsmtUnfSF', 'TotalBsmtSF', 'BsmtFullBath',\n",
        "#       'BsmtHalfBath', 'KitchenQual', 'Functional', 'GarageCars', 'GarageArea','SaleType'])\n",
        "# test_df = test_df.na.fill('NoData', subset=['MSZoning', 'Utilities', 'Exterior1st', 'Exterior2nd', 'BsmtFinSF1',\n",
        "#       'BsmtFinSF2', 'BsmtUnfSF', 'TotalBsmtSF', 'BsmtFullBath',\n",
        "#       'BsmtHalfBath', 'KitchenQual', 'Functional', 'GarageCars', 'GarageArea','SaleType'])"
      ],
      "metadata": {
        "id": "Ix_cMVYMxx7t"
      },
      "execution_count": null,
      "outputs": []
    },
    {
      "cell_type": "code",
      "source": [
        "cat_columns = pd_train.select_dtypes(include=['object']).columns\n",
        "pd_train[cat_columns] = pd_train[cat_columns].fillna('NoData')\n",
        "pd_test[cat_columns] = pd_test[cat_columns].fillna('NoData')"
      ],
      "metadata": {
        "id": "Fz538TI6x1lq"
      },
      "execution_count": null,
      "outputs": []
    },
    {
      "cell_type": "markdown",
      "source": [
        "**Handling outliers:**\n"
      ],
      "metadata": {
        "id": "wzEmpk2ex9wp"
      }
    },
    {
      "cell_type": "markdown",
      "source": [
        "the values are based on the scatterplots above.\n",
        "\n"
      ],
      "metadata": {
        "id": "w5F7m1hPx_MI"
      }
    },
    {
      "cell_type": "code",
      "source": [
        "print(\"Dropping outliers resulted in %d instances in the new dataset\" % len(pd_train))\n",
        "pd_train = pd_train.drop(pd_train[(pd_train['GrLivArea']>4500)\n",
        "                                & (pd_train['SalePrice']<300000)].index)\n",
        "print(\"Dropping outliers resulted in %d instances in the new dataset\" % len(pd_train))\n",
        "pd_train = pd_train.drop(pd_train[(pd_train['GrLivArea']>5500)\n",
        "                                | (pd_train['SalePrice']>500000)].index)\n",
        "print(\"Dropping outliers resulted in %d instances in the new dataset\" % len(pd_train))\n",
        "pd_train = pd_train.drop(pd_train[pd_train['GarageArea']>1100].index)\n",
        "print(\"Dropping outliers resulted in %d instances in the new dataset\" % len(pd_train))"
      ],
      "metadata": {
        "id": "OOgyZq7ox7SL"
      },
      "execution_count": null,
      "outputs": []
    },
    {
      "cell_type": "markdown",
      "source": [
        "Creating Spark DataFrames\n"
      ],
      "metadata": {
        "id": "XfWMhZptyEig"
      }
    },
    {
      "cell_type": "code",
      "source": [
        "train_df = spark_session.createDataFrame(pd_train)\n",
        "test_df = spark_session.createDataFrame(pd_test)"
      ],
      "metadata": {
        "id": "2lcqPD1byCy8"
      },
      "execution_count": null,
      "outputs": []
    },
    {
      "cell_type": "code",
      "source": [
        "train_df = train_df.select([c for c in train_df.columns if c not in na_cols])\n",
        "train_cols = train_df.columns\n",
        "train_cols.remove('SalePrice')\n",
        "test_df = test_df.select(train_cols)"
      ],
      "metadata": {
        "id": "2dWApt9oyJ6j"
      },
      "execution_count": null,
      "outputs": []
    },
    {
      "cell_type": "code",
      "source": [
        "from pyspark.sql.types import IntegerType\n",
        "\n",
        "# As PySpark DFs can be finicky, sometimes your have to explicitly cast certain data types to columns\n",
        "\n",
        "test_df = test_df.withColumn(\"BsmtFinSF1\", test_df[\"BsmtFinSF1\"].cast(IntegerType()))\n",
        "test_df = test_df.withColumn(\"BsmtFinSF2\", test_df[\"BsmtFinSF2\"].cast(IntegerType()))\n",
        "test_df = test_df.withColumn(\"BsmtUnfSF\", test_df[\"BsmtUnfSF\"].cast(IntegerType()))\n",
        "test_df = test_df.withColumn(\"TotalBsmtSF\", test_df[\"TotalBsmtSF\"].cast(IntegerType()))\n",
        "test_df = test_df.withColumn(\"BsmtFullBath\", test_df[\"BsmtFullBath\"].cast(IntegerType()))\n",
        "test_df = test_df.withColumn(\"BsmtHalfBath\", test_df[\"BsmtHalfBath\"].cast(IntegerType()))\n",
        "test_df = test_df.withColumn(\"GarageCars\", test_df[\"GarageCars\"].cast(IntegerType()))\n",
        "test_df = test_df.withColumn(\"GarageArea\", test_df[\"GarageArea\"].cast(IntegerType()))\n",
        "\n",
        "# train_df.printSchema()"
      ],
      "metadata": {
        "id": "uHM2ER7WyLLA"
      },
      "execution_count": null,
      "outputs": []
    },
    {
      "cell_type": "code",
      "source": [
        "# Defining string columns to pass on to the String Indexer (= categorical feature encoding)\n",
        "\n",
        "train_string_columns = []\n",
        "\n",
        "for col, dtype in train_df.dtypes:\n",
        "    if dtype == 'string':\n",
        "        train_string_columns.append(col)"
      ],
      "metadata": {
        "id": "hifQaHewyM9q"
      },
      "execution_count": null,
      "outputs": []
    },
    {
      "cell_type": "code",
      "source": [
        "from pyspark.ml import Pipeline\n",
        "from pyspark.ml.feature import StringIndexer\n",
        "\n",
        "indexers = [StringIndexer(inputCol=column, outputCol=column+'_index', handleInvalid='keep').fit(train_df) for column in train_string_columns]\n",
        "\n",
        "\n",
        "pipeline = Pipeline(stages=indexers)\n",
        "train_indexed = pipeline.fit(train_df).transform(train_df)"
      ],
      "metadata": {
        "id": "fQ5kGRrEyOx-"
      },
      "execution_count": null,
      "outputs": []
    },
    {
      "cell_type": "code",
      "source": [
        "print(len(train_indexed.columns))\n"
      ],
      "metadata": {
        "id": "YytU2NDcyVWh"
      },
      "execution_count": null,
      "outputs": []
    },
    {
      "cell_type": "code",
      "source": [
        "test_string_columns = []\n",
        "\n",
        "for col, dtype in test_df.dtypes:\n",
        "    if dtype == 'string':\n",
        "        test_string_columns.append(col)"
      ],
      "metadata": {
        "id": "fPlCPMcJyWhQ"
      },
      "execution_count": null,
      "outputs": []
    },
    {
      "cell_type": "code",
      "source": [
        "indexers2 = [StringIndexer(inputCol=column, outputCol=column+'_index', handleInvalid='keep').fit(test_df) for column in test_string_columns]\n",
        "\n",
        "pipeline2 = Pipeline(stages=indexers2)\n",
        "test_indexed = pipeline2.fit(test_df).transform(test_df)"
      ],
      "metadata": {
        "id": "VR66SvLGyYP8"
      },
      "execution_count": null,
      "outputs": []
    },
    {
      "cell_type": "code",
      "source": [
        "print(len(test_indexed.columns))"
      ],
      "metadata": {
        "id": "sG_Xrgw9yZv9"
      },
      "execution_count": null,
      "outputs": []
    },
    {
      "cell_type": "code",
      "source": [
        "def get_dtype(df,colname):\n",
        "    return [dtype for name, dtype in df.dtypes if name == colname][0]\n",
        "\n",
        "num_cols_train = []\n",
        "for col in train_indexed.columns:\n",
        "    if get_dtype(train_indexed,col) != 'string':\n",
        "        num_cols_train.append(str(col))\n",
        "\n",
        "num_cols_test = []\n",
        "for col in test_indexed.columns:\n",
        "    if get_dtype(test_indexed,col) != 'string':\n",
        "        num_cols_test.append(str(col))\n",
        "\n",
        "train_indexed = train_indexed.select(num_cols_train)\n",
        "test_indexed = test_indexed.select(num_cols_test)"
      ],
      "metadata": {
        "id": "wUJ44nEVycWS"
      },
      "execution_count": null,
      "outputs": []
    },
    {
      "cell_type": "code",
      "source": [
        "print(len(train_indexed.columns))\n",
        "print(len(test_indexed.columns))"
      ],
      "metadata": {
        "id": "kn3XRaeGyd1e"
      },
      "execution_count": null,
      "outputs": []
    },
    {
      "cell_type": "markdown",
      "source": [
        "**3. Model building (MLlib)**\n",
        "\n"
      ],
      "metadata": {
        "id": "EOkl4SRoyjme"
      }
    },
    {
      "cell_type": "markdown",
      "source": [
        "Before passing the data on to the PySpark model, we need to vectorize the data.\n",
        "\n"
      ],
      "metadata": {
        "id": "4_pQoGrQylGi"
      }
    },
    {
      "cell_type": "code",
      "source": [
        "from pyspark.ml.feature import VectorAssembler\n",
        "#Combine columns of a DataFrame 'train_indexed' excluding the \"SalePrice\" column into a new column containing vectors \"features\".\n",
        "#If there are any invalid values in any column, they will be preserved and treated as 0 in the resulting vector.\n",
        "vectorAssembler = VectorAssembler(inputCols = train_indexed.drop(\"SalePrice\").columns, outputCol = 'features').setHandleInvalid(\"keep\")\n",
        "\n",
        "#Create a new DataFrame (train_vector) by adding a column 'features' to train_indexed.\n",
        "train_vector = vectorAssembler.transform(train_indexed)"
      ],
      "metadata": {
        "id": "mrHpI6V8yfUj"
      },
      "execution_count": null,
      "outputs": []
    },
    {
      "cell_type": "code",
      "source": [
        "# Combine all the columns of the DataFrame 'test_indexed'\n",
        "vectorAssembler2 = VectorAssembler(inputCols = test_indexed.columns, outputCol = 'features').setHandleInvalid(\"keep\")\n",
        "\n",
        "test_vector = vectorAssembler2.transform(test_indexed)"
      ],
      "metadata": {
        "id": "II-PRG_LynUl"
      },
      "execution_count": null,
      "outputs": []
    },
    {
      "cell_type": "code",
      "source": [
        "from pyspark.sql.functions import lit\n",
        "\n",
        "test_vector = test_vector.withColumn(\"SalePrice\", lit(0))"
      ],
      "metadata": {
        "id": "PmtRai7syoea"
      },
      "execution_count": null,
      "outputs": []
    },
    {
      "cell_type": "code",
      "source": [
        "#You can use this to scale all instances, however, as I checked, this did not improve the performance\n",
        "\n",
        "#from pyspark.ml.feature import StandardScaler\n",
        "#scaler = StandardScaler(inputCol=\"features\", outputCol=\"scaledFeatures\", withStd=True, withMean=False)\n",
        "#scalerModel = scaler.fit(train_vector)\n",
        "#scaled_train = scalerModel.transform(train_vector)\n",
        "\n",
        "#scalerModel2 = scaler.fit(test_vector)\n",
        "#scaled_test = scalerModel2.transform(test_vector)"
      ],
      "metadata": {
        "id": "UBXlBXQyypfo"
      },
      "execution_count": null,
      "outputs": []
    },
    {
      "cell_type": "code",
      "source": [
        "# Train-test split\n",
        "\n",
        "splits = train_vector.randomSplit([0.7, 0.3])\n",
        "train = splits[0]\n",
        "val = splits[1]"
      ],
      "metadata": {
        "id": "XPD23JKWyrSo"
      },
      "execution_count": null,
      "outputs": []
    },
    {
      "cell_type": "code",
      "source": [
        "# Simple baseline (linreg)\n",
        "\n",
        "from pyspark.ml.regression import LinearRegression\n",
        "\n",
        "lr = LinearRegression(featuresCol = 'features', labelCol='SalePrice', maxIter=10,\n",
        "                      regParam=0.8, elasticNetParam=0.1) # It is always a good idea to play with hyperparameters.\n",
        "lr_model = lr.fit(train)\n",
        "\n",
        "trainingSummary = lr_model.summary\n",
        "print(\"RMSE: %f\" % trainingSummary.rootMeanSquaredError)\n",
        "print(\"r2: %f\" % trainingSummary.r2)\n",
        "\n",
        "lr_predictions = lr_model.transform(val)\n",
        "lr_predictions.select(\"prediction\",\"SalePrice\",\"features\").show(5)\n",
        "\n",
        "from pyspark.ml.evaluation import RegressionEvaluator\n",
        "lr_evaluator = RegressionEvaluator(predictionCol=\"prediction\", \\\n",
        "                 labelCol=\"SalePrice\",metricName=\"r2\")\n",
        "print(\"R Squared (R2) on val data = %g\" % lr_evaluator.evaluate(lr_predictions))"
      ],
      "metadata": {
        "id": "bz2WsxXVysqI"
      },
      "execution_count": null,
      "outputs": []
    },
    {
      "cell_type": "code",
      "source": [
        "# A more complex model with RF\n",
        "\n",
        "from pyspark.ml.regression import RandomForestRegressor\n",
        "\n",
        "rf = RandomForestRegressor(featuresCol = 'features', labelCol='SalePrice',\n",
        "                           maxDepth=20,\n",
        "                           minInstancesPerNode=2,\n",
        "                           bootstrap=True\n",
        "                          )\n",
        "rf_model = rf.fit(train)\n",
        "\n",
        "rf_predictions = rf_model.transform(val)\n",
        "rf_predictions.select(\"prediction\",\"SalePrice\",\"features\").show(5)\n",
        "\n",
        "from pyspark.ml.evaluation import RegressionEvaluator\n",
        "rf_evaluator = RegressionEvaluator(predictionCol=\"prediction\", \\\n",
        "                 labelCol=\"SalePrice\",metricName=\"r2\")\n",
        "print(\"R Squared (R2) on val data = %g\" % rf_evaluator.evaluate(rf_predictions))"
      ],
      "metadata": {
        "id": "ZHCJW1ktyuzv"
      },
      "execution_count": null,
      "outputs": []
    },
    {
      "cell_type": "markdown",
      "source": [
        "**4. Making predictions & submission**\n"
      ],
      "metadata": {
        "id": "xNzzgODay95r"
      }
    },
    {
      "cell_type": "markdown",
      "source": [
        "Let's convert the predictions in the .csv file for submission\n",
        "\n"
      ],
      "metadata": {
        "id": "coAmBs1yzAZ4"
      }
    },
    {
      "cell_type": "code",
      "source": [
        "rf_predictions2 = rf_model.transform(test_vector)\n",
        "#rf_predictions2.printSchema()\n",
        "pred = rf_predictions2.select(\"Id\",\"prediction\")\n",
        "pred = pred.withColumnRenamed(\"prediction\",\"SalePrice\")\n",
        "\n",
        "from pyspark.sql.types import FloatType, IntegerType\n",
        "\n",
        "#pred.printSchema()\n",
        "pred = pred.withColumn(\"Id\", pred[\"Id\"].cast(IntegerType()))\n",
        "pred = pred.withColumn(\"SalePrice\", pred[\"SalePrice\"].cast(FloatType()))\n"
      ],
      "metadata": {
        "id": "18dJfTK4y81U"
      },
      "execution_count": null,
      "outputs": []
    },
    {
      "cell_type": "code",
      "source": [
        "pred_pd = pred.toPandas()\n",
        "save = pred_pd.to_csv(\"sample_submission.csv\", index=False)\n",
        "save"
      ],
      "metadata": {
        "id": "vVrwkd_fzDiw"
      },
      "execution_count": null,
      "outputs": []
    },
    {
      "cell_type": "code",
      "source": [
        "pred_pd"
      ],
      "metadata": {
        "id": "R4c6DijYzIwP"
      },
      "execution_count": null,
      "outputs": []
    },
    {
      "cell_type": "markdown",
      "source": [
        "5. Conclusion\n"
      ],
      "metadata": {
        "id": "zdnrNJIDzMrI"
      }
    },
    {
      "cell_type": "markdown",
      "source": [
        "PySpark offers way less flexibility in working with data & models. This notebook represents just an exercise in using it. As for this particular dataset, you'd better use classical instruments.\n",
        "\n"
      ],
      "metadata": {
        "id": "hNiCSCSrzN5J"
      }
    },
    {
      "cell_type": "markdown",
      "source": [
        "However, we achieved quite good metrics of R^2~0.9 with Linear Regression and Random Forest Regression.\n",
        "\n",
        "\n",
        "\n"
      ],
      "metadata": {
        "id": "6dTSB1aHzXWu"
      }
    },
    {
      "cell_type": "code",
      "source": [],
      "metadata": {
        "id": "V6wU2XNmzKfU"
      },
      "execution_count": null,
      "outputs": []
    }
  ]
}